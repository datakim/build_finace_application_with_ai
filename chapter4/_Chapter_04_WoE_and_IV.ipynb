{
 "cells": [
  {
   "cell_type": "code",
   "execution_count": 3,
   "id": "6b336fd9-7e0a-4c54-a84d-7acf09d061bb",
   "metadata": {
    "tags": []
   },
   "outputs": [
    {
     "name": "stdout",
     "output_type": "stream",
     "text": [
      "  AgeGroup  GoodCount  BadCount       WoE    IV_bin\n",
      "0      <20         90        10 -0.041243  0.000158\n",
      "1    20-24        120        30  0.769687  0.112691\n",
      "2    25-29        160        40  0.769687  0.150255\n",
      "3    30-39        300        25 -0.328925  0.029115\n",
      "4      40+        280         5 -1.869370  0.466001\n",
      "Information Value (Age) = 0.7582\n"
     ]
    }
   ],
   "source": [
    "import numpy as np\n",
    "import pandas as pd\n",
    "\n",
    "# Example dataset: each row is a bin for \"AgeGroup\"\n",
    "data = {\n",
    "    'AgeGroup':   ['<20', '20-24', '25-29', '30-39', '40+'],\n",
    "    'GoodCount':  [90, 120, 160, 300, 280],\n",
    "    'BadCount':   [10,  30,  40,   25,   5]\n",
    "}\n",
    "df_bins = pd.DataFrame(data)\n",
    "\n",
    "# Compute overall totals\n",
    "total_good = df_bins['GoodCount'].sum()  # e.g., 950\n",
    "total_bad  = df_bins['BadCount'].sum()   # e.g., 110\n",
    "\n",
    "# Calculate GoodRate and BadRate\n",
    "df_bins['GoodRate'] = df_bins['GoodCount'] / total_good\n",
    "df_bins['BadRate']  = df_bins['BadCount']  / total_bad\n",
    "\n",
    "# Calculate WoE for each bin (with a small offset to avoid division by zero)\n",
    "df_bins['WoE'] = np.log((df_bins['BadRate'] + 1e-9) / (df_bins['GoodRate'] + 1e-9))\n",
    "\n",
    "# Calculate IV per bin and sum up\n",
    "df_bins['IV_bin'] = (df_bins['BadRate'] - df_bins['GoodRate']) * df_bins['WoE']\n",
    "IV_age = df_bins['IV_bin'].sum()\n",
    "\n",
    "print(df_bins[['AgeGroup','GoodCount','BadCount','WoE','IV_bin']])\n",
    "print(f\"Information Value (Age) = {IV_age:.4f}\")\n"
   ]
  },
  {
   "cell_type": "code",
   "execution_count": null,
   "id": "b4c0621e-8963-478b-a483-033747ca69b9",
   "metadata": {},
   "outputs": [],
   "source": []
  }
 ],
 "metadata": {
  "environment": {
   "kernel": "conda-base-py",
   "name": "workbench-notebooks.m126",
   "type": "gcloud",
   "uri": "us-docker.pkg.dev/deeplearning-platform-release/gcr.io/workbench-notebooks:m126"
  },
  "kernelspec": {
   "display_name": "Python 3 (ipykernel) (Local)",
   "language": "python",
   "name": "conda-base-py"
  },
  "language_info": {
   "codemirror_mode": {
    "name": "ipython",
    "version": 3
   },
   "file_extension": ".py",
   "mimetype": "text/x-python",
   "name": "python",
   "nbconvert_exporter": "python",
   "pygments_lexer": "ipython3",
   "version": "3.10.15"
  }
 },
 "nbformat": 4,
 "nbformat_minor": 5
}
